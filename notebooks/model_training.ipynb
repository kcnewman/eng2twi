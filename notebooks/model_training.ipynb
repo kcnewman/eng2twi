{
 "cells": [
  {
   "cell_type": "code",
   "execution_count": null,
   "id": "8a3793d6",
   "metadata": {},
   "outputs": [],
   "source": [
    "import sys\n",
    "\n",
    "sys.path.append(\"..\")\n",
    "from src.embeddings import (\n",
    "    load_embeddings,\n",
    "    build_matrices,\n",
    "    align_embeddings,\n",
    ")\n",
    "from src.utils import save_matrix, load_dict\n",
    "from src.evaluation import test_vocabulary\n",
    "import matplotlib.pyplot as plt\n",
    "import pickle\n"
   ]
  },
  {
   "cell_type": "code",
   "execution_count": null,
   "id": "f20ffc4f",
   "metadata": {},
   "outputs": [],
   "source": [
    "# en_twi = load_dictionary(file_dir=\"../data/processed/twi_dict_processed.csv\", pos=False)"
   ]
  },
  {
   "cell_type": "code",
   "execution_count": null,
   "id": "4855ff4e",
   "metadata": {},
   "outputs": [],
   "source": [
    "# dictionary = dict(zip(en_twi[\"english\"], en_twi[\"twi\"]))"
   ]
  },
  {
   "cell_type": "code",
   "execution_count": null,
   "id": "b1616357",
   "metadata": {},
   "outputs": [],
   "source": [
    "# keys = list(dictionary.keys())\n",
    "# train_keys, test_keys = train_test_split(keys, test_size=0.2, random_state=42)\n",
    "\n",
    "# train_dict = dict((k, dictionary[k]) for k in train_keys)\n",
    "# test_dict = dict((k, dictionary[k]) for k in test_keys)\n"
   ]
  },
  {
   "cell_type": "code",
   "execution_count": null,
   "id": "b797facc",
   "metadata": {},
   "outputs": [],
   "source": [
    "train_dict = load_dict(train_dict)\n",
    "test_dict = load_dict(test_dict)"
   ]
  },
  {
   "cell_type": "code",
   "execution_count": 9,
   "id": "a18b5f83",
   "metadata": {},
   "outputs": [
    {
     "name": "stderr",
     "output_type": "stream",
     "text": [
      "400000it [00:09, 44130.94it/s]\n"
     ]
    },
    {
     "name": "stdout",
     "output_type": "stream",
     "text": [
      "Loaded embeddings from ../data/embeddings/glove.6B.100d.txt...\n"
     ]
    },
    {
     "name": "stderr",
     "output_type": "stream",
     "text": [
      "100%|██████████| 121232/121232 [00:03<00:00, 39792.08it/s]"
     ]
    },
    {
     "name": "stdout",
     "output_type": "stream",
     "text": [
      "Loaded embeddings from ../data/embeddings/twi_fasttext_4M_akan_dim_100.vec...\n"
     ]
    },
    {
     "name": "stderr",
     "output_type": "stream",
     "text": [
      "\n"
     ]
    }
   ],
   "source": [
    "en_embeddings = load_embeddings(\"../data/embeddings/glove.6B.100d.txt\")\n",
    "twi_embeddings = load_embeddings(\n",
    "    \"../data/embeddings/twi_fasttext_4M_akan_dim_100.vec\", fasttext=True\n",
    ")"
   ]
  },
  {
   "cell_type": "code",
   "execution_count": null,
   "id": "ccac1868",
   "metadata": {},
   "outputs": [],
   "source": [
    "with open(\"../models/english_vecs.pkl\", \"wb\") as f:\n",
    "    pickle.dump(en_embeddings, f)\n",
    "\n",
    "with open(\"../models/twi_vecs.pkl\", \"wb\") as f:\n",
    "    pickle.dump(en_embeddings, f)"
   ]
  },
  {
   "cell_type": "code",
   "execution_count": null,
   "id": "818fe690",
   "metadata": {},
   "outputs": [],
   "source": [
    "X_train, Y_train = build_matrices(train_dict, en_embeddings, twi_embeddings)"
   ]
  },
  {
   "cell_type": "code",
   "execution_count": 13,
   "id": "4fea5ed6",
   "metadata": {},
   "outputs": [
    {
     "name": "stdout",
     "output_type": "stream",
     "text": [
      "loss at iteration 0 is: 33.1505\n",
      "loss at iteration 100 is: 2.9231\n",
      "loss at iteration 200 is: 1.1593\n",
      "loss at iteration 300 is: 0.8085\n",
      "loss at iteration 400 is: 0.7080\n",
      "loss at iteration 500 is: 0.6710\n",
      "loss at iteration 600 is: 0.6547\n",
      "loss at iteration 700 is: 0.6467\n",
      "loss at iteration 800 is: 0.6424\n",
      "loss at iteration 900 is: 0.6399\n",
      "loss at iteration 1000 is: 0.6385\n",
      "loss at iteration 1100 is: 0.6375\n",
      "Early stopping at iteration 1196, loss did not improve for 20 steps.\n",
      "Loss at early stopping: 0.6370\n"
     ]
    }
   ],
   "source": [
    "R, losses, iterations = align_embeddings(X_train, Y_train, steps=5000, lr=0.80)"
   ]
  },
  {
   "cell_type": "code",
   "execution_count": null,
   "id": "f7b358a5",
   "metadata": {},
   "outputs": [
    {
     "data": {
      "image/png": "[encoded data removed]",
      "text/plain": [
       "<Figure size 640x480 with 1 Axes>"
      ]
     },
     "metadata": {},
     "output_type": "display_data"
    }
   ],
   "source": [
    "plt.plot(iterations, losses, marker=\"x\")\n",
    "plt.xlabel(\"iterations\")\n",
    "plt.ylabel(\"Loss\")\n",
    "plt.title(\"Loss vs Iterations\")\n",
    "plt.savefig(\"../results/figures\")\n",
    "plt.show()"
   ]
  },
  {
   "cell_type": "code",
   "execution_count": null,
   "id": "15ed1df6",
   "metadata": {},
   "outputs": [],
   "source": [
    "save_matrix(R, \"projection_matrix\")"
   ]
  },
  {
   "cell_type": "code",
   "execution_count": null,
   "id": "cc59a412",
   "metadata": {},
   "outputs": [],
   "source": [
    "X_test,Y_test = build_matrices(test_dict,en_embeddings,twi_embeddings)"
   ]
  },
  {
   "cell_type": "code",
   "execution_count": null,
   "id": "44b153e5",
   "metadata": {},
   "outputs": [],
   "source": [
    "accuracy = test_vocabulary(X_test,Y_test,R)\n",
    "print(f\"Test accuracy: {accuracy:.2%}\")"
   ]
  }
 ],
 "metadata": {
  "kernelspec": {
   "display_name": "mlp",
   "language": "python",
   "name": "python3"
  },
  "language_info": {
   "codemirror_mode": {
    "name": "ipython",
    "version": 3
   },
   "file_extension": ".py",
   "mimetype": "text/x-python",
   "name": "python",
   "nbconvert_exporter": "python",
   "pygments_lexer": "ipython3",
   "version": "3.11.11"
  }
 },
 "nbformat": 4,
 "nbformat_minor": 5
}
