{
 "cells": [
  {
   "cell_type": "code",
   "execution_count": 6,
   "id": "8a3793d6",
   "metadata": {},
   "outputs": [],
   "source": [
    "import sys\n",
    "sys.path.append(\"..\")\n",
    "import numpy as np\n",
    "from src.embeddings import load_embeddings, phrase_embeddings, build_matrices,compute_loss,align_embeddings\n",
    "from src.utils import save_model,load_model,load_dictionary,clean_text\n"
   ]
  },
  {
   "cell_type": "code",
   "execution_count": null,
   "id": "f20ffc4f",
   "metadata": {},
   "outputs": [],
   "source": []
  }
 ],
 "metadata": {
  "kernelspec": {
   "display_name": "mlp",
   "language": "python",
   "name": "python3"
  },
  "language_info": {
   "codemirror_mode": {
    "name": "ipython",
    "version": 3
   },
   "file_extension": ".py",
   "mimetype": "text/x-python",
   "name": "python",
   "nbconvert_exporter": "python",
   "pygments_lexer": "ipython3",
   "version": "3.11.11"
  }
 },
 "nbformat": 4,
 "nbformat_minor": 5
}
