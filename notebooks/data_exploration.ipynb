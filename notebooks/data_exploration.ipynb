{
 "cells": [
  {
   "cell_type": "code",
   "execution_count": null,
   "id": "2615beca",
   "metadata": {},
   "outputs": [],
   "source": [
    "import sys\n",
    "\n",
    "sys.path.append(\"..\")\n",
    "from src.utils import load_dictionary, clean_text, save_dict\n",
    "from src.embeddings import load_embeddings, save_embedding\n",
    "from src.visualization import plot_embeddings\n",
    "from sklearn.model_selection import train_test_split\n",
    "import os\n",
    "import numpy as np"
   ]
  },
  {
   "cell_type": "code",
   "execution_count": 2,
   "id": "18763739",
   "metadata": {},
   "outputs": [
    {
     "data": {
      "text/html": [
       "<div>\n",
       "<style scoped>\n",
       "    .dataframe tbody tr th:only-of-type {\n",
       "        vertical-align: middle;\n",
       "    }\n",
       "\n",
       "    .dataframe tbody tr th {\n",
       "        vertical-align: top;\n",
       "    }\n",
       "\n",
       "    .dataframe thead th {\n",
       "        text-align: right;\n",
       "    }\n",
       "</style>\n",
       "<table border=\"1\" class=\"dataframe\">\n",
       "  <thead>\n",
       "    <tr style=\"text-align: right;\">\n",
       "      <th></th>\n",
       "      <th>english</th>\n",
       "      <th>pos</th>\n",
       "      <th>twi</th>\n",
       "    </tr>\n",
       "  </thead>\n",
       "  <tbody>\n",
       "    <tr>\n",
       "      <th>0</th>\n",
       "      <td>hopeless</td>\n",
       "      <td>ADJECTIVE</td>\n",
       "      <td>anidasoɔ nni mu; deɛ anidasoɔ nni mu</td>\n",
       "    </tr>\n",
       "    <tr>\n",
       "      <th>1</th>\n",
       "      <td>horizon</td>\n",
       "      <td>NOUN</td>\n",
       "      <td>ewiem ne asase ahyiaeɛ</td>\n",
       "    </tr>\n",
       "    <tr>\n",
       "      <th>2</th>\n",
       "      <td>horn</td>\n",
       "      <td>NOUN</td>\n",
       "      <td>abɛn; abebɛn</td>\n",
       "    </tr>\n",
       "    <tr>\n",
       "      <th>3</th>\n",
       "      <td>horror</td>\n",
       "      <td>NOUN</td>\n",
       "      <td>ehu</td>\n",
       "    </tr>\n",
       "    <tr>\n",
       "      <th>4</th>\n",
       "      <td>horrible</td>\n",
       "      <td>ADJECTIVE</td>\n",
       "      <td>ɛyɛ hu; deɛ ɛyɛ hu</td>\n",
       "    </tr>\n",
       "  </tbody>\n",
       "</table>\n",
       "</div>"
      ],
      "text/plain": [
       "    english        pos                                    twi\n",
       "0  hopeless  ADJECTIVE  anidasoɔ nni mu; deɛ anidasoɔ nni mu \n",
       "1   horizon       NOUN                 ewiem ne asase ahyiaeɛ\n",
       "2      horn       NOUN                          abɛn; abebɛn \n",
       "3    horror       NOUN                                    ehu\n",
       "4  horrible  ADJECTIVE                     ɛyɛ hu; deɛ ɛyɛ hu"
      ]
     },
     "execution_count": 2,
     "metadata": {},
     "output_type": "execute_result"
    }
   ],
   "source": [
    "df = load_dictionary(pos=False)\n",
    "df.head()"
   ]
  },
  {
   "cell_type": "code",
   "execution_count": 3,
   "id": "e13ebfd3",
   "metadata": {},
   "outputs": [
    {
     "data": {
      "text/plain": [
       "array(['ADJECTIVE', 'NOUN', 'VERB', 'ADJECTIVE | NOUN', 'EXCLAMATION',\n",
       "       'ADVERB', 'NOUN | ADJECTIVE', '3RD PERSON PLURAL SUBJECT PRONOUN',\n",
       "       '2ND PERSON SINGULAR POSSESSIVE ADJECTIVE',\n",
       "       '1ST PERSON PLURAL SUBJECT PRONOUN',\n",
       "       '1ST PERSON PLURAL OBJECT PRONOUN',\n",
       "       '1ST PERSON SINGULAR POSSESSIVE ADJECTIVE',\n",
       "       '3RD PERSON POSSESSIVE ADJECTIVE (male)',\n",
       "       '3RD PERSON POSSESSIVE PRONOUN (female)',\n",
       "       '1ST PERSON PLURAL POSSESSIVE ADJECTIVE',\n",
       "       '3RD PERSON PLURAL POSSESSIVE ADJECTIVE',\n",
       "       '3RD PERSON PLURAL POSSESSIVE PRONOUN',\n",
       "       '2ND PERSON PLURAL POSSESSIVE PRONOUN',\n",
       "       '3RD PERSON NEUTRAL SUBJECT PRONOUN', 'SUBJECT PRONOUN',\n",
       "       '1ST PERSON SINGULAR SUBJECT PRONOUN',\n",
       "       '3RD PERSON SINGULAR SUBJECT PRONOUN (male)',\n",
       "       '3RD PERSON SINGULAR SUBJECT PRONOUN',\n",
       "       '3RD PERSON SINGULAR OBJECT PRONOUN (male)',\n",
       "       '3RD PERSON SINGULAR OBJECT PRONOUN (female)', 'NOUN | ADVERB',\n",
       "       'DEMONSTRATIVE PRONOUN | DETERMINER', 'ADJECTIVE | ADVERB', nan,\n",
       "       'PREPOSITION | DETERMINER', 'DETERMINER | INDEFINITE ARTICLE',\n",
       "       'ADJECTIVE | PRONOUN', 'EXCLAMATION | NOUN',\n",
       "       'INTERROGATIVE PRONOUN | ADVERB', 'CONJUNCTION',\n",
       "       'REFLEXIVE PRONOUN', 'PHRASE', 'CONJUNCTION | PREPOSITION',\n",
       "       'PREPOSITION', 'ADVERB | NOUN', 'ADVERB | ADJECTIVE', 'QUESTION',\n",
       "       'NOUN | EXCLAMATION', 'PHRASE | EXCLAMATION', 'ADJCTIVE',\n",
       "       'PHRASAL VERB', 'PRONOUN\\xa0', 'PRONOUN', 'DETERMINER | PRONOUN',\n",
       "       'DETERMINER', 'ADJECTIVE | VERB\\xa0', '\\xa0',\n",
       "       'PREPOSITION | ADVERB', 'NOUN | VERB', 'VERB | NOUN', 'NUMBER',\n",
       "       'ADVERB | PRONOUN', 'ADJECTIVE | PRONOUN | ADVERB', 'PREFIX\\xa0',\n",
       "       'ADJECTIVE | NUMBER', 'NOUN | PRONOUN',\n",
       "       'PREPOSITION | CONJUNCTION', 'ADVERB | PREPOSITION',\n",
       "       'ABBREVIATION', 'NOUN ', 'EDIN | noun',\n",
       "       'DETERMINER | PRONOUN | ADJECTIVE', 'NOUN PHRASE', 'SENTENCE',\n",
       "       'DETERMINER | DEFINITE ARTICLE', 'ACRONYM'], dtype=object)"
      ]
     },
     "execution_count": 3,
     "metadata": {},
     "output_type": "execute_result"
    }
   ],
   "source": [
    "df[\"pos\"].unique()"
   ]
  },
  {
   "cell_type": "code",
   "execution_count": 4,
   "id": "16af9498",
   "metadata": {},
   "outputs": [],
   "source": [
    "df = df.drop(\"pos\", axis=1)"
   ]
  },
  {
   "cell_type": "code",
   "execution_count": 5,
   "id": "0df2b5a0",
   "metadata": {},
   "outputs": [
    {
     "data": {
      "text/plain": [
       "Index(['english', 'twi'], dtype='object')"
      ]
     },
     "execution_count": 5,
     "metadata": {},
     "output_type": "execute_result"
    }
   ],
   "source": [
    "df.columns"
   ]
  },
  {
   "cell_type": "code",
   "execution_count": 6,
   "id": "b2551a52",
   "metadata": {},
   "outputs": [
    {
     "data": {
      "text/plain": [
       "7250"
      ]
     },
     "execution_count": 6,
     "metadata": {},
     "output_type": "execute_result"
    }
   ],
   "source": [
    "len(df[\"english\"])"
   ]
  },
  {
   "cell_type": "code",
   "execution_count": 7,
   "id": "9f61e987",
   "metadata": {},
   "outputs": [
    {
     "data": {
      "text/plain": [
       "0       anidasoɔ nni mu; deɛ anidasoɔ nni mu \n",
       "1                      ewiem ne asase ahyiaeɛ\n",
       "2                               abɛn; abebɛn \n",
       "3                                         ehu\n",
       "4                          ɛyɛ hu; deɛ ɛyɛ hu\n",
       "                        ...                  \n",
       "7245                                 di nsesa\n",
       "7246                                      emu\n",
       "7247                                    aniku\n",
       "7248                                 ntwaremu\n",
       "7249                           twitwa anan mu\n",
       "Name: twi, Length: 7250, dtype: object"
      ]
     },
     "execution_count": 7,
     "metadata": {},
     "output_type": "execute_result"
    }
   ],
   "source": [
    "df[\"twi\"]"
   ]
  },
  {
   "cell_type": "code",
   "execution_count": 8,
   "id": "37086fe1",
   "metadata": {},
   "outputs": [],
   "source": [
    "df[\"twi\"] = df[\"twi\"].str.split(\";\").str[0]"
   ]
  },
  {
   "cell_type": "code",
   "execution_count": 9,
   "id": "03dfa727",
   "metadata": {},
   "outputs": [
    {
     "data": {
      "text/plain": [
       "0              anidasoɔ nni mu\n",
       "1       ewiem ne asase ahyiaeɛ\n",
       "2                         abɛn\n",
       "3                          ehu\n",
       "4                       ɛyɛ hu\n",
       "                 ...          \n",
       "7245                  di nsesa\n",
       "7246                       emu\n",
       "7247                     aniku\n",
       "7248                  ntwaremu\n",
       "7249            twitwa anan mu\n",
       "Name: twi, Length: 7250, dtype: object"
      ]
     },
     "execution_count": 9,
     "metadata": {},
     "output_type": "execute_result"
    }
   ],
   "source": [
    "df[\"twi\"]"
   ]
  },
  {
   "cell_type": "code",
   "execution_count": null,
   "id": "7f55e4de",
   "metadata": {},
   "outputs": [],
   "source": [
    "df[\"twi\"] = df[\"twi\"].apply(clean_text)"
   ]
  },
  {
   "cell_type": "code",
   "execution_count": null,
   "id": "b5df9e80",
   "metadata": {},
   "outputs": [],
   "source": [
    "df[\"english\"] = df[\"english\"].apply(lambda x: clean_text(text=x, lang=\"eng\"))"
   ]
  },
  {
   "cell_type": "code",
   "execution_count": 15,
   "id": "2d4c1fec",
   "metadata": {},
   "outputs": [],
   "source": [
    "os.makedirs(\"../data/processed\", exist_ok=True)"
   ]
  },
  {
   "cell_type": "code",
   "execution_count": 16,
   "id": "822ef9d5",
   "metadata": {},
   "outputs": [],
   "source": [
    "df.to_csv(\"../data/processed/twi_dict_processed.csv\", index=False)"
   ]
  },
  {
   "cell_type": "code",
   "execution_count": null,
   "id": "007a6af7",
   "metadata": {},
   "outputs": [],
   "source": [
    "dictionary = dict(zip(df[\"english\"], df[\"twi\"]))"
   ]
  },
  {
   "cell_type": "code",
   "execution_count": null,
   "id": "9eaf5259",
   "metadata": {},
   "outputs": [],
   "source": [
    "keys = list(dictionary.keys())\n",
    "train_keys, test_keys = train_test_split(keys, test_size=0.2, random_state=42)\n",
    "\n",
    "train_dict = dict((k, dictionary[k]) for k in train_keys)\n",
    "test_dict = dict((k, dictionary[k]) for k in test_keys)"
   ]
  },
  {
   "cell_type": "code",
   "execution_count": null,
   "id": "14bca0bd",
   "metadata": {},
   "outputs": [],
   "source": [
    "save_dict(train_dict, \"train_dict\")\n",
    "save_dict(test_dict, \"test_dict\")"
   ]
  },
  {
   "cell_type": "code",
   "execution_count": null,
   "id": "8f2c0b83",
   "metadata": {},
   "outputs": [],
   "source": [
    "en_embeddings = load_embeddings(\"../data/embeddings/glove.6B.100d.txt\")\n",
    "twi_embeddings = load_embeddings(\n",
    "    \"../data/embeddings/twi_fasttext_4M_akan_dim_100.vec\", fasttext=True\n",
    ")"
   ]
  },
  {
   "cell_type": "code",
   "execution_count": null,
   "id": "015a374e",
   "metadata": {},
   "outputs": [],
   "source": [
    "en_labels = list(en_embeddings.keys())\n",
    "en_vectors = np.array(list(en_embeddings.values()))\n",
    "plot_embeddings(en_vectors, en_labels, \"ENglish Embedding Space\")\n"
   ]
  },
  {
   "cell_type": "code",
   "execution_count": null,
   "id": "4631ee61",
   "metadata": {},
   "outputs": [],
   "source": [
    "twi_labels = list(twi_embeddings.keys())\n",
    "twi_vectors = np.array(list(twi_embeddings.values()))\n",
    "plot_embeddings(twi_vectors, twi_labels, \"Twi Embedding Space\")\n"
   ]
  },
  {
   "cell_type": "code",
   "execution_count": null,
   "id": "2ed9d3e6",
   "metadata": {},
   "outputs": [],
   "source": [
    "save_embedding(en_embeddings, twi_embeddings)"
   ]
  }
 ],
 "metadata": {
  "kernelspec": {
   "display_name": "mlp",
   "language": "python",
   "name": "python3"
  },
  "language_info": {
   "codemirror_mode": {
    "name": "ipython",
    "version": 3
   },
   "file_extension": ".py",
   "mimetype": "text/x-python",
   "name": "python",
   "nbconvert_exporter": "python",
   "pygments_lexer": "ipython3",
   "version": "3.11.11"
  }
 },
 "nbformat": 4,
 "nbformat_minor": 5
}
