{
 "cells": [
  {
   "cell_type": "code",
   "execution_count": 1,
   "id": "1eeabf5c",
   "metadata": {},
   "outputs": [],
   "source": [
    "import pandas as pd"
   ]
  },
  {
   "cell_type": "code",
   "execution_count": 2,
   "id": "45f272bf",
   "metadata": {},
   "outputs": [],
   "source": [
    "def entoak(file_path: str):\n",
    "    \"\"\"Loads english to twi dictionary\n",
    "\n",
    "    Args:\n",
    "        file_path (str): Path to dictionary file\n",
    "\n",
    "    Returns:\n",
    "        df: pd.DataFrame\n",
    "    \"\"\"\n",
    "    df = pd.read_csv(file_path)\n",
    "    df = df.drop(columns=[\"pos\"])\n",
    "    return df\n"
   ]
  },
  {
   "cell_type": "code",
   "execution_count": 3,
   "id": "7436b00e",
   "metadata": {},
   "outputs": [
    {
     "name": "stdout",
     "output_type": "stream",
     "text": [
      "\u001b[31mSignature:\u001b[39m entoak(file_path: str)\n",
      "\u001b[31mSource:\u001b[39m   \n",
      "\u001b[38;5;28;01mdef\u001b[39;00m entoak(file_path: str):\n",
      "    \u001b[33m\"\"\"Loads english to twi dictionary\u001b[39m\n",
      "\n",
      "\u001b[33m    Args:\u001b[39m\n",
      "\u001b[33m        file_path (str): Path to dictionary file\u001b[39m\n",
      "\n",
      "\u001b[33m    Returns:\u001b[39m\n",
      "\u001b[33m        df: pd.DataFrame\u001b[39m\n",
      "\u001b[33m    \"\"\"\u001b[39m\n",
      "    df = pd.read_csv(file_path)\n",
      "    df = df.drop(columns=[\u001b[33m\"pos\"\u001b[39m])\n",
      "    \u001b[38;5;28;01mreturn\u001b[39;00m df\n",
      "\u001b[31mFile:\u001b[39m      c:\\users\\os\\appdata\\local\\temp\\ipykernel_16168\\887595629.py\n",
      "\u001b[31mType:\u001b[39m      function"
     ]
    }
   ],
   "source": [
    "??entoak"
   ]
  },
  {
   "cell_type": "code",
   "execution_count": null,
   "id": "15d54179",
   "metadata": {},
   "outputs": [],
   "source": []
  }
 ],
 "metadata": {
  "kernelspec": {
   "display_name": "mlp",
   "language": "python",
   "name": "python3"
  },
  "language_info": {
   "codemirror_mode": {
    "name": "ipython",
    "version": 3
   },
   "file_extension": ".py",
   "mimetype": "text/x-python",
   "name": "python",
   "nbconvert_exporter": "python",
   "pygments_lexer": "ipython3",
   "version": "3.11.11"
  }
 },
 "nbformat": 4,
 "nbformat_minor": 5
}
