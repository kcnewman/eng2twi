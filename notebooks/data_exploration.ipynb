{
 "cells": [
  {
   "cell_type": "code",
   "execution_count": 3,
   "id": "2615beca",
   "metadata": {},
   "outputs": [],
   "source": [
    "import sys\n",
    "\n",
    "sys.path.append(\"..\")\n",
    "from src.utils import load_dictionary, clean_text, save_dict\n",
    "from src.embeddings import load_embeddings, save_embedding\n",
    "from src.visualization import plot_embeddings\n",
    "from sklearn.model_selection import train_test_split\n",
    "import os\n",
    "import numpy as np"
   ]
  },
  {
   "cell_type": "code",
   "execution_count": 4,
   "id": "18763739",
   "metadata": {},
   "outputs": [
    {
     "data": {
      "text/html": [
       "<div>\n",
       "<style scoped>\n",
       "    .dataframe tbody tr th:only-of-type {\n",
       "        vertical-align: middle;\n",
       "    }\n",
       "\n",
       "    .dataframe tbody tr th {\n",
       "        vertical-align: top;\n",
       "    }\n",
       "\n",
       "    .dataframe thead th {\n",
       "        text-align: right;\n",
       "    }\n",
       "</style>\n",
       "<table border=\"1\" class=\"dataframe\">\n",
       "  <thead>\n",
       "    <tr style=\"text-align: right;\">\n",
       "      <th></th>\n",
       "      <th>english</th>\n",
       "      <th>pos</th>\n",
       "      <th>twi</th>\n",
       "    </tr>\n",
       "  </thead>\n",
       "  <tbody>\n",
       "    <tr>\n",
       "      <th>0</th>\n",
       "      <td>hopeless</td>\n",
       "      <td>ADJECTIVE</td>\n",
       "      <td>anidasoɔ nni mu; deɛ anidasoɔ nni mu</td>\n",
       "    </tr>\n",
       "    <tr>\n",
       "      <th>1</th>\n",
       "      <td>horizon</td>\n",
       "      <td>NOUN</td>\n",
       "      <td>ewiem ne asase ahyiaeɛ</td>\n",
       "    </tr>\n",
       "    <tr>\n",
       "      <th>2</th>\n",
       "      <td>horn</td>\n",
       "      <td>NOUN</td>\n",
       "      <td>abɛn; abebɛn</td>\n",
       "    </tr>\n",
       "    <tr>\n",
       "      <th>3</th>\n",
       "      <td>horror</td>\n",
       "      <td>NOUN</td>\n",
       "      <td>ehu</td>\n",
       "    </tr>\n",
       "    <tr>\n",
       "      <th>4</th>\n",
       "      <td>horrible</td>\n",
       "      <td>ADJECTIVE</td>\n",
       "      <td>ɛyɛ hu; deɛ ɛyɛ hu</td>\n",
       "    </tr>\n",
       "  </tbody>\n",
       "</table>\n",
       "</div>"
      ],
      "text/plain": [
       "    english        pos                                    twi\n",
       "0  hopeless  ADJECTIVE  anidasoɔ nni mu; deɛ anidasoɔ nni mu \n",
       "1   horizon       NOUN                 ewiem ne asase ahyiaeɛ\n",
       "2      horn       NOUN                          abɛn; abebɛn \n",
       "3    horror       NOUN                                    ehu\n",
       "4  horrible  ADJECTIVE                     ɛyɛ hu; deɛ ɛyɛ hu"
      ]
     },
     "execution_count": 4,
     "metadata": {},
     "output_type": "execute_result"
    }
   ],
   "source": [
    "df = load_dictionary(\"../data/raw/twi_dict.csv\",pos=False)\n",
    "df.head()"
   ]
  },
  {
   "cell_type": "code",
   "execution_count": 5,
   "id": "e13ebfd3",
   "metadata": {},
   "outputs": [
    {
     "data": {
      "text/plain": [
       "array(['ADJECTIVE', 'NOUN', 'VERB', 'ADJECTIVE | NOUN', 'EXCLAMATION',\n",
       "       'ADVERB', 'NOUN | ADJECTIVE', '3RD PERSON PLURAL SUBJECT PRONOUN',\n",
       "       '2ND PERSON SINGULAR POSSESSIVE ADJECTIVE',\n",
       "       '1ST PERSON PLURAL SUBJECT PRONOUN',\n",
       "       '1ST PERSON PLURAL OBJECT PRONOUN',\n",
       "       '1ST PERSON SINGULAR POSSESSIVE ADJECTIVE',\n",
       "       '3RD PERSON POSSESSIVE ADJECTIVE (male)',\n",
       "       '3RD PERSON POSSESSIVE PRONOUN (female)',\n",
       "       '1ST PERSON PLURAL POSSESSIVE ADJECTIVE',\n",
       "       '3RD PERSON PLURAL POSSESSIVE ADJECTIVE',\n",
       "       '3RD PERSON PLURAL POSSESSIVE PRONOUN',\n",
       "       '2ND PERSON PLURAL POSSESSIVE PRONOUN',\n",
       "       '3RD PERSON NEUTRAL SUBJECT PRONOUN', 'SUBJECT PRONOUN',\n",
       "       '1ST PERSON SINGULAR SUBJECT PRONOUN',\n",
       "       '3RD PERSON SINGULAR SUBJECT PRONOUN (male)',\n",
       "       '3RD PERSON SINGULAR SUBJECT PRONOUN',\n",
       "       '3RD PERSON SINGULAR OBJECT PRONOUN (male)',\n",
       "       '3RD PERSON SINGULAR OBJECT PRONOUN (female)', 'NOUN | ADVERB',\n",
       "       'DEMONSTRATIVE PRONOUN | DETERMINER', 'ADJECTIVE | ADVERB', nan,\n",
       "       'PREPOSITION | DETERMINER', 'DETERMINER | INDEFINITE ARTICLE',\n",
       "       'ADJECTIVE | PRONOUN', 'EXCLAMATION | NOUN',\n",
       "       'INTERROGATIVE PRONOUN | ADVERB', 'CONJUNCTION',\n",
       "       'REFLEXIVE PRONOUN', 'PHRASE', 'CONJUNCTION | PREPOSITION',\n",
       "       'PREPOSITION', 'ADVERB | NOUN', 'ADVERB | ADJECTIVE', 'QUESTION',\n",
       "       'NOUN | EXCLAMATION', 'PHRASE | EXCLAMATION', 'ADJCTIVE',\n",
       "       'PHRASAL VERB', 'PRONOUN\\xa0', 'PRONOUN', 'DETERMINER | PRONOUN',\n",
       "       'DETERMINER', 'ADJECTIVE | VERB\\xa0', '\\xa0',\n",
       "       'PREPOSITION | ADVERB', 'NOUN | VERB', 'VERB | NOUN', 'NUMBER',\n",
       "       'ADVERB | PRONOUN', 'ADJECTIVE | PRONOUN | ADVERB', 'PREFIX\\xa0',\n",
       "       'ADJECTIVE | NUMBER', 'NOUN | PRONOUN',\n",
       "       'PREPOSITION | CONJUNCTION', 'ADVERB | PREPOSITION',\n",
       "       'ABBREVIATION', 'NOUN ', 'EDIN | noun',\n",
       "       'DETERMINER | PRONOUN | ADJECTIVE', 'NOUN PHRASE', 'SENTENCE',\n",
       "       'DETERMINER | DEFINITE ARTICLE', 'ACRONYM'], dtype=object)"
      ]
     },
     "execution_count": 5,
     "metadata": {},
     "output_type": "execute_result"
    }
   ],
   "source": [
    "df[\"pos\"].unique()"
   ]
  },
  {
   "cell_type": "code",
   "execution_count": 6,
   "id": "16af9498",
   "metadata": {},
   "outputs": [],
   "source": [
    "df = df.drop(\"pos\", axis=1)"
   ]
  },
  {
   "cell_type": "code",
   "execution_count": 7,
   "id": "0df2b5a0",
   "metadata": {},
   "outputs": [
    {
     "data": {
      "text/plain": [
       "Index(['english', 'twi'], dtype='object')"
      ]
     },
     "execution_count": 7,
     "metadata": {},
     "output_type": "execute_result"
    }
   ],
   "source": [
    "df.columns"
   ]
  },
  {
   "cell_type": "code",
   "execution_count": 8,
   "id": "b2551a52",
   "metadata": {},
   "outputs": [
    {
     "data": {
      "text/plain": [
       "7250"
      ]
     },
     "execution_count": 8,
     "metadata": {},
     "output_type": "execute_result"
    }
   ],
   "source": [
    "len(df[\"english\"])"
   ]
  },
  {
   "cell_type": "code",
   "execution_count": 9,
   "id": "9f61e987",
   "metadata": {},
   "outputs": [
    {
     "data": {
      "text/plain": [
       "0       anidasoɔ nni mu; deɛ anidasoɔ nni mu \n",
       "1                      ewiem ne asase ahyiaeɛ\n",
       "2                               abɛn; abebɛn \n",
       "3                                         ehu\n",
       "4                          ɛyɛ hu; deɛ ɛyɛ hu\n",
       "                        ...                  \n",
       "7245                                 di nsesa\n",
       "7246                                      emu\n",
       "7247                                    aniku\n",
       "7248                                 ntwaremu\n",
       "7249                           twitwa anan mu\n",
       "Name: twi, Length: 7250, dtype: object"
      ]
     },
     "execution_count": 9,
     "metadata": {},
     "output_type": "execute_result"
    }
   ],
   "source": [
    "df[\"twi\"]"
   ]
  },
  {
   "cell_type": "code",
   "execution_count": 10,
   "id": "37086fe1",
   "metadata": {},
   "outputs": [],
   "source": [
    "df[\"twi\"] = df[\"twi\"].str.split(\";\").str[0]"
   ]
  },
  {
   "cell_type": "code",
   "execution_count": 11,
   "id": "03dfa727",
   "metadata": {},
   "outputs": [
    {
     "data": {
      "text/plain": [
       "0              anidasoɔ nni mu\n",
       "1       ewiem ne asase ahyiaeɛ\n",
       "2                         abɛn\n",
       "3                          ehu\n",
       "4                       ɛyɛ hu\n",
       "                 ...          \n",
       "7245                  di nsesa\n",
       "7246                       emu\n",
       "7247                     aniku\n",
       "7248                  ntwaremu\n",
       "7249            twitwa anan mu\n",
       "Name: twi, Length: 7250, dtype: object"
      ]
     },
     "execution_count": 11,
     "metadata": {},
     "output_type": "execute_result"
    }
   ],
   "source": [
    "df[\"twi\"]"
   ]
  },
  {
   "cell_type": "code",
   "execution_count": 12,
   "id": "7f55e4de",
   "metadata": {},
   "outputs": [],
   "source": [
    "df[\"twi\"] = df[\"twi\"].apply(clean_text)"
   ]
  },
  {
   "cell_type": "code",
   "execution_count": 13,
   "id": "b5df9e80",
   "metadata": {},
   "outputs": [],
   "source": [
    "df[\"english\"] = df[\"english\"].apply(lambda x: clean_text(text=x, lang=\"eng\"))"
   ]
  },
  {
   "cell_type": "code",
   "execution_count": 14,
   "id": "2d4c1fec",
   "metadata": {},
   "outputs": [],
   "source": [
    "os.makedirs(\"../data/processed\", exist_ok=True)"
   ]
  },
  {
   "cell_type": "code",
   "execution_count": 15,
   "id": "822ef9d5",
   "metadata": {},
   "outputs": [],
   "source": [
    "df.to_csv(\"../data/processed/twi_dict_processed.csv\", index=False)"
   ]
  },
  {
   "cell_type": "code",
   "execution_count": 16,
   "id": "007a6af7",
   "metadata": {},
   "outputs": [],
   "source": [
    "dictionary = dict(zip(df[\"english\"], df[\"twi\"]))"
   ]
  },
  {
   "cell_type": "code",
   "execution_count": 17,
   "id": "9eaf5259",
   "metadata": {},
   "outputs": [],
   "source": [
    "keys = list(dictionary.keys())\n",
    "train_keys, test_keys = train_test_split(keys, test_size=0.2, random_state=42)\n",
    "\n",
    "train_dict = dict((k, dictionary[k]) for k in train_keys)\n",
    "test_dict = dict((k, dictionary[k]) for k in test_keys)"
   ]
  },
  {
   "cell_type": "code",
   "execution_count": 18,
   "id": "14bca0bd",
   "metadata": {},
   "outputs": [
    {
     "name": "stdout",
     "output_type": "stream",
     "text": [
      "Saved dict to: models/train_dict.pkl\n",
      "Saved dict to: models/test_dict.pkl\n"
     ]
    }
   ],
   "source": [
    "save_dict(train_dict, \"train_dict\")\n",
    "save_dict(test_dict, \"test_dict\")"
   ]
  },
  {
   "cell_type": "code",
   "execution_count": 19,
   "id": "8f2c0b83",
   "metadata": {},
   "outputs": [
    {
     "name": "stderr",
     "output_type": "stream",
     "text": [
      "400000it [00:15, 25723.01it/s]\n"
     ]
    },
    {
     "name": "stdout",
     "output_type": "stream",
     "text": [
      "Loaded embeddings from text: ../data/embeddings/glove.6B.100d.txt\n"
     ]
    },
    {
     "name": "stderr",
     "output_type": "stream",
     "text": [
      "100%|██████████| 121232/121232 [00:06<00:00, 18113.93it/s]"
     ]
    },
    {
     "name": "stdout",
     "output_type": "stream",
     "text": [
      "Loaded embeddings from text: ../data/embeddings/twi_fasttext_4M_akan_dim_100.vec\n"
     ]
    },
    {
     "name": "stderr",
     "output_type": "stream",
     "text": [
      "\n"
     ]
    }
   ],
   "source": [
    "en_embeddings = load_embeddings(\"../data/embeddings/glove.6B.100d.txt\")\n",
    "twi_embeddings = load_embeddings(\n",
    "    \"../data/embeddings/twi_fasttext_4M_akan_dim_100.vec\", fasttext=True\n",
    ")"
   ]
  },
  {
   "cell_type": "code",
   "execution_count": null,
   "id": "015a374e",
   "metadata": {},
   "outputs": [
    {
     "ename": "KeyboardInterrupt",
     "evalue": "",
     "output_type": "error",
     "traceback": [
      "\u001b[31m---------------------------------------------------------------------------\u001b[39m",
      "\u001b[31mKeyboardInterrupt\u001b[39m                         Traceback (most recent call last)",
      "\u001b[36mCell\u001b[39m\u001b[36m \u001b[39m\u001b[32mIn[20]\u001b[39m\u001b[32m, line 3\u001b[39m\n\u001b[32m      1\u001b[39m en_labels = \u001b[38;5;28mlist\u001b[39m(en_embeddings.keys())\n\u001b[32m      2\u001b[39m en_vectors = np.array(\u001b[38;5;28mlist\u001b[39m(en_embeddings.values()))\n\u001b[32m----> \u001b[39m\u001b[32m3\u001b[39m plot_embeddings(en_vectors, en_labels, \u001b[33m\"\u001b[39m\u001b[33mENglish Embedding Space\u001b[39m\u001b[33m\"\u001b[39m)\n",
      "\u001b[36mFile \u001b[39m\u001b[32mc:\\Users\\os\\Projects\\eng2twi\\notebooks\\..\\src\\visualization.py:14\u001b[39m, in \u001b[36mplot_embeddings\u001b[39m\u001b[34m(embeddings, labels, title, save_path)\u001b[39m\n\u001b[32m     12\u001b[39m \u001b[38;5;28;01mfor\u001b[39;00m i, label \u001b[38;5;129;01min\u001b[39;00m \u001b[38;5;28menumerate\u001b[39m(labels):\n\u001b[32m     13\u001b[39m     x, y = reduced[i, \u001b[32m0\u001b[39m], reduced[i, \u001b[32m1\u001b[39m]\n\u001b[32m---> \u001b[39m\u001b[32m14\u001b[39m     plt.scatter(x, y)\n\u001b[32m     15\u001b[39m     plt.text(x + \u001b[32m0.01\u001b[39m, y + \u001b[32m0.01\u001b[39m, label, fontsize=\u001b[32m9\u001b[39m)\n\u001b[32m     16\u001b[39m plt.title(title)\n",
      "\u001b[36mFile \u001b[39m\u001b[32mc:\\Users\\os\\miniconda3\\envs\\mlp\\Lib\\site-packages\\matplotlib\\_api\\deprecation.py:453\u001b[39m, in \u001b[36mmake_keyword_only.<locals>.wrapper\u001b[39m\u001b[34m(*args, **kwargs)\u001b[39m\n\u001b[32m    447\u001b[39m \u001b[38;5;28;01mif\u001b[39;00m \u001b[38;5;28mlen\u001b[39m(args) > name_idx:\n\u001b[32m    448\u001b[39m     warn_deprecated(\n\u001b[32m    449\u001b[39m         since, message=\u001b[33m\"\u001b[39m\u001b[33mPassing the \u001b[39m\u001b[38;5;132;01m%(name)s\u001b[39;00m\u001b[33m \u001b[39m\u001b[38;5;132;01m%(obj_type)s\u001b[39;00m\u001b[33m \u001b[39m\u001b[33m\"\u001b[39m\n\u001b[32m    450\u001b[39m         \u001b[33m\"\u001b[39m\u001b[33mpositionally is deprecated since Matplotlib \u001b[39m\u001b[38;5;132;01m%(since)s\u001b[39;00m\u001b[33m; the \u001b[39m\u001b[33m\"\u001b[39m\n\u001b[32m    451\u001b[39m         \u001b[33m\"\u001b[39m\u001b[33mparameter will become keyword-only in \u001b[39m\u001b[38;5;132;01m%(removal)s\u001b[39;00m\u001b[33m.\u001b[39m\u001b[33m\"\u001b[39m,\n\u001b[32m    452\u001b[39m         name=name, obj_type=\u001b[33mf\u001b[39m\u001b[33m\"\u001b[39m\u001b[33mparameter of \u001b[39m\u001b[38;5;132;01m{\u001b[39;00mfunc.\u001b[34m__name__\u001b[39m\u001b[38;5;132;01m}\u001b[39;00m\u001b[33m()\u001b[39m\u001b[33m\"\u001b[39m)\n\u001b[32m--> \u001b[39m\u001b[32m453\u001b[39m \u001b[38;5;28;01mreturn\u001b[39;00m func(*args, **kwargs)\n",
      "\u001b[36mFile \u001b[39m\u001b[32mc:\\Users\\os\\miniconda3\\envs\\mlp\\Lib\\site-packages\\matplotlib\\pyplot.py:3939\u001b[39m, in \u001b[36mscatter\u001b[39m\u001b[34m(x, y, s, c, marker, cmap, norm, vmin, vmax, alpha, linewidths, edgecolors, colorizer, plotnonfinite, data, **kwargs)\u001b[39m\n\u001b[32m   3919\u001b[39m \u001b[38;5;129m@_copy_docstring_and_deprecators\u001b[39m(Axes.scatter)\n\u001b[32m   3920\u001b[39m \u001b[38;5;28;01mdef\u001b[39;00m\u001b[38;5;250m \u001b[39m\u001b[34mscatter\u001b[39m(\n\u001b[32m   3921\u001b[39m     x: \u001b[38;5;28mfloat\u001b[39m | ArrayLike,\n\u001b[32m   (...)\u001b[39m\u001b[32m   3937\u001b[39m     **kwargs,\n\u001b[32m   3938\u001b[39m ) -> PathCollection:\n\u001b[32m-> \u001b[39m\u001b[32m3939\u001b[39m     __ret = gca().scatter(\n\u001b[32m   3940\u001b[39m         x,\n\u001b[32m   3941\u001b[39m         y,\n\u001b[32m   3942\u001b[39m         s=s,\n\u001b[32m   3943\u001b[39m         c=c,\n\u001b[32m   3944\u001b[39m         marker=marker,\n\u001b[32m   3945\u001b[39m         cmap=cmap,\n\u001b[32m   3946\u001b[39m         norm=norm,\n\u001b[32m   3947\u001b[39m         vmin=vmin,\n\u001b[32m   3948\u001b[39m         vmax=vmax,\n\u001b[32m   3949\u001b[39m         alpha=alpha,\n\u001b[32m   3950\u001b[39m         linewidths=linewidths,\n\u001b[32m   3951\u001b[39m         edgecolors=edgecolors,\n\u001b[32m   3952\u001b[39m         colorizer=colorizer,\n\u001b[32m   3953\u001b[39m         plotnonfinite=plotnonfinite,\n\u001b[32m   3954\u001b[39m         **({\u001b[33m\"\u001b[39m\u001b[33mdata\u001b[39m\u001b[33m\"\u001b[39m: data} \u001b[38;5;28;01mif\u001b[39;00m data \u001b[38;5;129;01mis\u001b[39;00m \u001b[38;5;129;01mnot\u001b[39;00m \u001b[38;5;28;01mNone\u001b[39;00m \u001b[38;5;28;01melse\u001b[39;00m {}),\n\u001b[32m   3955\u001b[39m         **kwargs,\n\u001b[32m   3956\u001b[39m     )\n\u001b[32m   3957\u001b[39m     sci(__ret)\n\u001b[32m   3958\u001b[39m     \u001b[38;5;28;01mreturn\u001b[39;00m __ret\n",
      "\u001b[36mFile \u001b[39m\u001b[32mc:\\Users\\os\\miniconda3\\envs\\mlp\\Lib\\site-packages\\matplotlib\\_api\\deprecation.py:453\u001b[39m, in \u001b[36mmake_keyword_only.<locals>.wrapper\u001b[39m\u001b[34m(*args, **kwargs)\u001b[39m\n\u001b[32m    447\u001b[39m \u001b[38;5;28;01mif\u001b[39;00m \u001b[38;5;28mlen\u001b[39m(args) > name_idx:\n\u001b[32m    448\u001b[39m     warn_deprecated(\n\u001b[32m    449\u001b[39m         since, message=\u001b[33m\"\u001b[39m\u001b[33mPassing the \u001b[39m\u001b[38;5;132;01m%(name)s\u001b[39;00m\u001b[33m \u001b[39m\u001b[38;5;132;01m%(obj_type)s\u001b[39;00m\u001b[33m \u001b[39m\u001b[33m\"\u001b[39m\n\u001b[32m    450\u001b[39m         \u001b[33m\"\u001b[39m\u001b[33mpositionally is deprecated since Matplotlib \u001b[39m\u001b[38;5;132;01m%(since)s\u001b[39;00m\u001b[33m; the \u001b[39m\u001b[33m\"\u001b[39m\n\u001b[32m    451\u001b[39m         \u001b[33m\"\u001b[39m\u001b[33mparameter will become keyword-only in \u001b[39m\u001b[38;5;132;01m%(removal)s\u001b[39;00m\u001b[33m.\u001b[39m\u001b[33m\"\u001b[39m,\n\u001b[32m    452\u001b[39m         name=name, obj_type=\u001b[33mf\u001b[39m\u001b[33m\"\u001b[39m\u001b[33mparameter of \u001b[39m\u001b[38;5;132;01m{\u001b[39;00mfunc.\u001b[34m__name__\u001b[39m\u001b[38;5;132;01m}\u001b[39;00m\u001b[33m()\u001b[39m\u001b[33m\"\u001b[39m)\n\u001b[32m--> \u001b[39m\u001b[32m453\u001b[39m \u001b[38;5;28;01mreturn\u001b[39;00m func(*args, **kwargs)\n",
      "\u001b[36mFile \u001b[39m\u001b[32mc:\\Users\\os\\miniconda3\\envs\\mlp\\Lib\\site-packages\\matplotlib\\__init__.py:1521\u001b[39m, in \u001b[36m_preprocess_data.<locals>.inner\u001b[39m\u001b[34m(ax, data, *args, **kwargs)\u001b[39m\n\u001b[32m   1518\u001b[39m \u001b[38;5;129m@functools\u001b[39m.wraps(func)\n\u001b[32m   1519\u001b[39m \u001b[38;5;28;01mdef\u001b[39;00m\u001b[38;5;250m \u001b[39m\u001b[34minner\u001b[39m(ax, *args, data=\u001b[38;5;28;01mNone\u001b[39;00m, **kwargs):\n\u001b[32m   1520\u001b[39m     \u001b[38;5;28;01mif\u001b[39;00m data \u001b[38;5;129;01mis\u001b[39;00m \u001b[38;5;28;01mNone\u001b[39;00m:\n\u001b[32m-> \u001b[39m\u001b[32m1521\u001b[39m         \u001b[38;5;28;01mreturn\u001b[39;00m func(\n\u001b[32m   1522\u001b[39m             ax,\n\u001b[32m   1523\u001b[39m             *\u001b[38;5;28mmap\u001b[39m(cbook.sanitize_sequence, args),\n\u001b[32m   1524\u001b[39m             **{k: cbook.sanitize_sequence(v) \u001b[38;5;28;01mfor\u001b[39;00m k, v \u001b[38;5;129;01min\u001b[39;00m kwargs.items()})\n\u001b[32m   1526\u001b[39m     bound = new_sig.bind(ax, *args, **kwargs)\n\u001b[32m   1527\u001b[39m     auto_label = (bound.arguments.get(label_namer)\n\u001b[32m   1528\u001b[39m                   \u001b[38;5;129;01mor\u001b[39;00m bound.kwargs.get(label_namer))\n",
      "\u001b[36mFile \u001b[39m\u001b[32mc:\\Users\\os\\miniconda3\\envs\\mlp\\Lib\\site-packages\\matplotlib\\axes\\_axes.py:5032\u001b[39m, in \u001b[36mAxes.scatter\u001b[39m\u001b[34m(self, x, y, s, c, marker, cmap, norm, vmin, vmax, alpha, linewidths, edgecolors, colorizer, plotnonfinite, **kwargs)\u001b[39m\n\u001b[32m   5029\u001b[39m     \u001b[38;5;28;01mif\u001b[39;00m \u001b[38;5;28mself\u001b[39m._ymargin < \u001b[32m0.05\u001b[39m \u001b[38;5;129;01mand\u001b[39;00m x.size > \u001b[32m0\u001b[39m:\n\u001b[32m   5030\u001b[39m         \u001b[38;5;28mself\u001b[39m.set_ymargin(\u001b[32m0.05\u001b[39m)\n\u001b[32m-> \u001b[39m\u001b[32m5032\u001b[39m \u001b[38;5;28mself\u001b[39m.add_collection(collection)\n\u001b[32m   5033\u001b[39m \u001b[38;5;28mself\u001b[39m._request_autoscale_view()\n\u001b[32m   5035\u001b[39m \u001b[38;5;28;01mreturn\u001b[39;00m collection\n",
      "\u001b[36mFile \u001b[39m\u001b[32mc:\\Users\\os\\miniconda3\\envs\\mlp\\Lib\\site-packages\\matplotlib\\axes\\_base.py:2330\u001b[39m, in \u001b[36m_AxesBase.add_collection\u001b[39m\u001b[34m(self, collection, autolim)\u001b[39m\n\u001b[32m   2325\u001b[39m     collection.set_clip_path(\u001b[38;5;28mself\u001b[39m.patch)\n\u001b[32m   2327\u001b[39m \u001b[38;5;28;01mif\u001b[39;00m autolim:\n\u001b[32m   2328\u001b[39m     \u001b[38;5;66;03m# Make sure viewLim is not stale (mostly to match\u001b[39;00m\n\u001b[32m   2329\u001b[39m     \u001b[38;5;66;03m# pre-lazy-autoscale behavior, which is not really better).\u001b[39;00m\n\u001b[32m-> \u001b[39m\u001b[32m2330\u001b[39m     \u001b[38;5;28mself\u001b[39m._unstale_viewLim()\n\u001b[32m   2331\u001b[39m     datalim = collection.get_datalim(\u001b[38;5;28mself\u001b[39m.transData)\n\u001b[32m   2332\u001b[39m     points = datalim.get_points()\n",
      "\u001b[36mFile \u001b[39m\u001b[32mc:\\Users\\os\\miniconda3\\envs\\mlp\\Lib\\site-packages\\matplotlib\\axes\\_base.py:862\u001b[39m, in \u001b[36m_AxesBase._unstale_viewLim\u001b[39m\u001b[34m(self)\u001b[39m\n\u001b[32m    860\u001b[39m     \u001b[38;5;28;01mfor\u001b[39;00m ax \u001b[38;5;129;01min\u001b[39;00m \u001b[38;5;28mself\u001b[39m._shared_axes[name].get_siblings(\u001b[38;5;28mself\u001b[39m):\n\u001b[32m    861\u001b[39m         ax._stale_viewlims[name] = \u001b[38;5;28;01mFalse\u001b[39;00m\n\u001b[32m--> \u001b[39m\u001b[32m862\u001b[39m \u001b[38;5;28mself\u001b[39m.autoscale_view(**{\u001b[33mf\u001b[39m\u001b[33m\"\u001b[39m\u001b[33mscale\u001b[39m\u001b[38;5;132;01m{\u001b[39;00mname\u001b[38;5;132;01m}\u001b[39;00m\u001b[33m\"\u001b[39m: scale\n\u001b[32m    863\u001b[39m                        \u001b[38;5;28;01mfor\u001b[39;00m name, scale \u001b[38;5;129;01min\u001b[39;00m need_scale.items()})\n",
      "\u001b[36mFile \u001b[39m\u001b[32mc:\\Users\\os\\miniconda3\\envs\\mlp\\Lib\\site-packages\\matplotlib\\axes\\_base.py:2961\u001b[39m, in \u001b[36m_AxesBase.autoscale_view\u001b[39m\u001b[34m(self, tight, scalex, scaley)\u001b[39m\n\u001b[32m   2959\u001b[39m \u001b[38;5;28;01mif\u001b[39;00m \u001b[38;5;28mself\u001b[39m.use_sticky_edges:\n\u001b[32m   2960\u001b[39m     \u001b[38;5;28;01mif\u001b[39;00m \u001b[38;5;28mself\u001b[39m._xmargin \u001b[38;5;129;01mand\u001b[39;00m scalex \u001b[38;5;129;01mand\u001b[39;00m \u001b[38;5;28mself\u001b[39m.get_autoscalex_on():\n\u001b[32m-> \u001b[39m\u001b[32m2961\u001b[39m         x_stickies = np.sort(np.concatenate([\n\u001b[32m   2962\u001b[39m             artist.sticky_edges.x\n\u001b[32m   2963\u001b[39m             \u001b[38;5;28;01mfor\u001b[39;00m ax \u001b[38;5;129;01min\u001b[39;00m \u001b[38;5;28mself\u001b[39m._shared_axes[\u001b[33m\"\u001b[39m\u001b[33mx\u001b[39m\u001b[33m\"\u001b[39m].get_siblings(\u001b[38;5;28mself\u001b[39m)\n\u001b[32m   2964\u001b[39m             \u001b[38;5;28;01mfor\u001b[39;00m artist \u001b[38;5;129;01min\u001b[39;00m ax.get_children()]))\n\u001b[32m   2965\u001b[39m     \u001b[38;5;28;01mif\u001b[39;00m \u001b[38;5;28mself\u001b[39m._ymargin \u001b[38;5;129;01mand\u001b[39;00m scaley \u001b[38;5;129;01mand\u001b[39;00m \u001b[38;5;28mself\u001b[39m.get_autoscaley_on():\n\u001b[32m   2966\u001b[39m         y_stickies = np.sort(np.concatenate([\n\u001b[32m   2967\u001b[39m             artist.sticky_edges.y\n\u001b[32m   2968\u001b[39m             \u001b[38;5;28;01mfor\u001b[39;00m ax \u001b[38;5;129;01min\u001b[39;00m \u001b[38;5;28mself\u001b[39m._shared_axes[\u001b[33m\"\u001b[39m\u001b[33my\u001b[39m\u001b[33m\"\u001b[39m].get_siblings(\u001b[38;5;28mself\u001b[39m)\n\u001b[32m   2969\u001b[39m             \u001b[38;5;28;01mfor\u001b[39;00m artist \u001b[38;5;129;01min\u001b[39;00m ax.get_children()]))\n",
      "\u001b[31mKeyboardInterrupt\u001b[39m: "
     ]
    }
   ],
   "source": [
    "en_labels = list(en_embeddings.keys())\n",
    "en_vectors = np.array(list(en_embeddings.values()))\n",
    "plot_embeddings(en_vectors, en_labels, \"English Embedding Space\")\n"
   ]
  },
  {
   "cell_type": "code",
   "execution_count": null,
   "id": "4631ee61",
   "metadata": {},
   "outputs": [],
   "source": [
    "twi_labels = list(twi_embeddings.keys())\n",
    "twi_vectors = np.array(list(twi_embeddings.values()))\n",
    "plot_embeddings(twi_vectors, twi_labels, \"Twi Embedding Space\")\n"
   ]
  },
  {
   "cell_type": "code",
   "execution_count": null,
   "id": "2ed9d3e6",
   "metadata": {},
   "outputs": [],
   "source": [
    "save_embedding(en_embeddings, twi_embeddings)"
   ]
  }
 ],
 "metadata": {
  "kernelspec": {
   "display_name": "mlp",
   "language": "python",
   "name": "python3"
  },
  "language_info": {
   "codemirror_mode": {
    "name": "ipython",
    "version": 3
   },
   "file_extension": ".py",
   "mimetype": "text/x-python",
   "name": "python",
   "nbconvert_exporter": "python",
   "pygments_lexer": "ipython3",
   "version": "3.11.11"
  }
 },
 "nbformat": 4,
 "nbformat_minor": 5
}
